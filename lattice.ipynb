{
 "cells": [
  {
   "cell_type": "code",
   "execution_count": 22,
   "id": "70ddb2f6",
   "metadata": {},
   "outputs": [],
   "source": [
    "#obtenir la structure du matériau\n",
    "from pymatgen.ext.matproj import MPRester \n",
    "from pymatgen.symmetry.analyzer import SpacegroupAnalyzer\n",
    "from pprint import pprint\n",
    "with MPRester(\"TJVQZXfS2KHqvsC7QEip\") as m: \n",
    "    structure = m.get_structure_by_material_id(\"mp-505297\")"
   ]
  },
  {
   "cell_type": "code",
   "execution_count": 30,
   "id": "5e2e7ef2",
   "metadata": {},
   "outputs": [
    {
     "name": "stdout",
     "output_type": "stream",
     "text": [
      "les informations sur les vecteurs de bases du réseau direct :\n",
      "\n",
      "les vecteurs du réseau direct :\n",
      "\n",
      "0.000000 3.101064 3.101064\n",
      "3.101064 0.000000 3.101064\n",
      "3.101064 3.101064 0.000000\n",
      "\n",
      "normes en angström:\n",
      "\n",
      "a = 4.38556676658696; b = 4.38556676658696; c = 4.38556676658696\n",
      "\n",
      "angles en °:\n",
      "\n",
      "alpha = 60.00000000000001; beta = 60.00000000000001; gamma = 60.00000000000001\n",
      "\n"
     ]
    }
   ],
   "source": [
    "# déterminer les vecteurs de bases du réseau direct \n",
    "analyse = SpacegroupAnalyzer(structure)\n",
    "vecteurs = structure.lattice\n",
    "normes = vecteurs.abc\n",
    "angles = vecteurs.angles\n",
    "print(\"les informations sur les vecteurs de bases du réseau direct :\\n\")\n",
    "print(\"les vecteurs du réseau direct :\\n\")\n",
    "print(vecteurs )\n",
    "print(\"\\nnormes en angström:\\n\")\n",
    "print(\"a = {}; b = {}; c = {}\\n\".format(normes[0], normes[1], normes[2]))\n",
    "print(\"angles en °:\\n\")\n",
    "print(\"alpha = {}; beta = {}; gamma = {}\\n\".format(angles[0], angles[1], angles[2]))"
   ]
  },
  {
   "cell_type": "code",
   "execution_count": 31,
   "id": "1898d138",
   "metadata": {},
   "outputs": [
    {
     "name": "stdout",
     "output_type": "stream",
     "text": [
      "les informations sur les vecteurs de bases du réseau réciproque :\n",
      "\n",
      "les vecteurs du réseau réciproque :\n",
      "\n",
      "-1.013069 1.013069 1.013069\n",
      "1.013069 -1.013069 1.013069\n",
      "1.013069 1.013069 -1.013069\n",
      "\n",
      "normes en angström:\n",
      "\n",
      "a = 1.7546874533072043; b = 1.7546874533072043; c = 1.7546874533072045\n",
      "\n",
      "angles en °:\n",
      "\n",
      "alpha = 109.47122063449069; beta = 109.47122063449069; gamma = 109.47122063449069\n",
      "\n"
     ]
    }
   ],
   "source": [
    "#determiner les vecteurs de base du réseau réciproque\n",
    "\n",
    "\n",
    "vecteurs = structure.lattice.reciprocal_lattice\n",
    "normes = vecteurs.abc\n",
    "angles = vecteurs.angles\n",
    "print(\"les informations sur les vecteurs de bases du réseau réciproque :\\n\")\n",
    "print(\"les vecteurs du réseau réciproque :\\n\")\n",
    "print(vecteurs )\n",
    "print(\"\\nnormes en angström:\\n\")\n",
    "print(\"a = {}; b = {}; c = {}\\n\".format(normes[0], normes[1], normes[2]))\n",
    "print(\"angles en °:\\n\")\n",
    "print(\"alpha = {}; beta = {}; gamma = {}\\n\".format(angles[0], angles[1], angles[2])) \n"
   ]
  },
  {
   "cell_type": "code",
   "execution_count": 25,
   "id": "8d9abbb4",
   "metadata": {},
   "outputs": [
    {
     "name": "stdout",
     "output_type": "stream",
     "text": [
      "le type de maille :\n"
     ]
    },
    {
     "data": {
      "text/plain": [
       "'cubic'"
      ]
     },
     "execution_count": 25,
     "metadata": {},
     "output_type": "execute_result"
    }
   ],
   "source": [
    "#déterminer le type de maille \n",
    "print('le type de maille :')\n",
    "analyse.get_lattice_type()"
   ]
  },
  {
   "cell_type": "code",
   "execution_count": 26,
   "id": "9236efa9",
   "metadata": {},
   "outputs": [
    {
     "name": "stdout",
     "output_type": "stream",
     "text": [
      "le système cristallin:\n"
     ]
    },
    {
     "data": {
      "text/plain": [
       "'cubic'"
      ]
     },
     "execution_count": 26,
     "metadata": {},
     "output_type": "execute_result"
    }
   ],
   "source": [
    "#déterminer le système cristallin\n",
    "print('le système cristallin:')\n",
    "analyse.get_crystal_system()"
   ]
  },
  {
   "cell_type": "code",
   "execution_count": 19,
   "id": "95b65c2d",
   "metadata": {},
   "outputs": [
    {
     "name": "stdout",
     "output_type": "stream",
     "text": [
      "le groupe ponctuel\n"
     ]
    },
    {
     "data": {
      "text/plain": [
       "'-43m'"
      ]
     },
     "execution_count": 19,
     "metadata": {},
     "output_type": "execute_result"
    }
   ],
   "source": [
    "#déterminer le groupe ponctuel\n",
    "print('le groupe ponctuel')\n",
    "analyse.get_point_group_symbol()"
   ]
  },
  {
   "cell_type": "code",
   "execution_count": null,
   "id": "ca79f0bc",
   "metadata": {},
   "outputs": [],
   "source": []
  }
 ],
 "metadata": {
  "kernelspec": {
   "display_name": "Python 3",
   "language": "python",
   "name": "python3"
  },
  "language_info": {
   "codemirror_mode": {
    "name": "ipython",
    "version": 3
   },
   "file_extension": ".py",
   "mimetype": "text/x-python",
   "name": "python",
   "nbconvert_exporter": "python",
   "pygments_lexer": "ipython3",
   "version": "3.6.8"
  }
 },
 "nbformat": 4,
 "nbformat_minor": 5
}
